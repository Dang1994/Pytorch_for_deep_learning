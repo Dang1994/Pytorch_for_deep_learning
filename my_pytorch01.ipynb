{
  "nbformat": 4,
  "nbformat_minor": 0,
  "metadata": {
    "colab": {
      "provenance": [],
      "authorship_tag": "ABX9TyMUMEsor06A2a5zlr54+3Ml",
      "include_colab_link": true
    },
    "kernelspec": {
      "name": "python3",
      "display_name": "Python 3"
    },
    "language_info": {
      "name": "python"
    }
  },
  "cells": [
    {
      "cell_type": "markdown",
      "metadata": {
        "id": "view-in-github",
        "colab_type": "text"
      },
      "source": [
        "<a href=\"https://colab.research.google.com/github/Dang1994/Pytorch_for_deep_learning/blob/main/my_pytorch01.ipynb\" target=\"_parent\"><img src=\"https://colab.research.google.com/assets/colab-badge.svg\" alt=\"Open In Colab\"/></a>"
      ]
    },
    {
      "cell_type": "code",
      "execution_count": null,
      "metadata": {
        "id": "utRh1AKu9S6R"
      },
      "outputs": [],
      "source": [
        "import torch\n",
        "import pandas as pd\n",
        "import numpy as np\n",
        "import matplotlib.pyplot as plt"
      ]
    },
    {
      "cell_type": "code",
      "source": [
        "print(torch.__version__)"
      ],
      "metadata": {
        "colab": {
          "base_uri": "https://localhost:8080/"
        },
        "id": "wX07oUnj-uKa",
        "outputId": "466979d5-bf04-4204-d86b-3ec6b0384d2f"
      },
      "execution_count": null,
      "outputs": [
        {
          "output_type": "stream",
          "name": "stdout",
          "text": [
            "2.5.0+cu121\n"
          ]
        }
      ]
    },
    {
      "cell_type": "markdown",
      "source": [
        "# Introuction to Tensors\n",
        "### Creating tensors\n",
        "\n",
        "Pytorch tensors are created using torch.Tensor() = https://pytorch.org/docs/stable/tensors.html\n"
      ],
      "metadata": {
        "id": "dYv0p0yu_I8m"
      }
    },
    {
      "cell_type": "code",
      "source": [
        "# scalar\n",
        "scalar =torch.tensor(7)\n",
        "scalar"
      ],
      "metadata": {
        "colab": {
          "base_uri": "https://localhost:8080/"
        },
        "id": "jknWiAPm_mbf",
        "outputId": "29c1cf7c-8b8c-4011-8cd7-5714e0549eac"
      },
      "execution_count": null,
      "outputs": [
        {
          "output_type": "execute_result",
          "data": {
            "text/plain": [
              "tensor(7)"
            ]
          },
          "metadata": {},
          "execution_count": 6
        }
      ]
    },
    {
      "cell_type": "code",
      "source": [
        "scalar.ndim"
      ],
      "metadata": {
        "colab": {
          "base_uri": "https://localhost:8080/"
        },
        "id": "B4B5cnzM_wzL",
        "outputId": "6481e92f-8821-4b58-8674-78ad96c80cd0"
      },
      "execution_count": null,
      "outputs": [
        {
          "output_type": "execute_result",
          "data": {
            "text/plain": [
              "0"
            ]
          },
          "metadata": {},
          "execution_count": 7
        }
      ]
    },
    {
      "cell_type": "code",
      "source": [
        "random_tesnor = torch.rand(1, 3, 4)\n",
        "\n",
        "random_tesnor"
      ],
      "metadata": {
        "colab": {
          "base_uri": "https://localhost:8080/"
        },
        "id": "Q2U37MP82rVj",
        "outputId": "9048a35f-f5ee-454d-b2ce-7fc7dd593bcb"
      },
      "execution_count": null,
      "outputs": [
        {
          "output_type": "execute_result",
          "data": {
            "text/plain": [
              "tensor([[[0.9208, 0.8808, 0.4848, 0.1831],\n",
              "         [0.1317, 0.2607, 0.3970, 0.9403],\n",
              "         [0.4999, 0.4383, 0.8649, 0.9344]]])"
            ]
          },
          "metadata": {},
          "execution_count": 12
        }
      ]
    },
    {
      "cell_type": "code",
      "source": [
        "random_image_size_tesnor = torch.rand(size=(224,224,3))\n",
        "\n",
        "random_image_size_tesnor.shape, random_image_size_tesnor.ndim"
      ],
      "metadata": {
        "colab": {
          "base_uri": "https://localhost:8080/"
        },
        "id": "iMSaKoqf3UUG",
        "outputId": "922773ec-b50a-44fd-fce5-7db88d505209"
      },
      "execution_count": null,
      "outputs": [
        {
          "output_type": "execute_result",
          "data": {
            "text/plain": [
              "(torch.Size([224, 224, 3]), 3)"
            ]
          },
          "metadata": {},
          "execution_count": 16
        }
      ]
    },
    {
      "cell_type": "code",
      "source": [
        "random_tesnor.ndim"
      ],
      "metadata": {
        "colab": {
          "base_uri": "https://localhost:8080/"
        },
        "id": "abwgQILt3ACe",
        "outputId": "8486066d-71bc-4c38-d35a-8c0543a6576b"
      },
      "execution_count": null,
      "outputs": [
        {
          "output_type": "execute_result",
          "data": {
            "text/plain": [
              "2"
            ]
          },
          "metadata": {},
          "execution_count": 9
        }
      ]
    },
    {
      "cell_type": "code",
      "source": [
        "zeros = torch.arange(start=3, end =4, step=0.5)\n",
        "zeros"
      ],
      "metadata": {
        "colab": {
          "base_uri": "https://localhost:8080/"
        },
        "id": "VLELrmER4t6X",
        "outputId": "db49a9a9-b219-4500-8955-900ae2e7955f"
      },
      "execution_count": null,
      "outputs": [
        {
          "output_type": "execute_result",
          "data": {
            "text/plain": [
              "tensor([3.0000, 3.5000])"
            ]
          },
          "metadata": {},
          "execution_count": 35
        }
      ]
    },
    {
      "cell_type": "code",
      "source": [
        "zeros_one = torch.zeros_like(zeros)\n",
        "zeros_one"
      ],
      "metadata": {
        "colab": {
          "base_uri": "https://localhost:8080/"
        },
        "id": "MeLA_1R765n3",
        "outputId": "4b1d6961-77cd-412e-f10c-7364d23ca226"
      },
      "execution_count": null,
      "outputs": [
        {
          "output_type": "execute_result",
          "data": {
            "text/plain": [
              "tensor([0., 0.])"
            ]
          },
          "metadata": {},
          "execution_count": 38
        }
      ]
    }
  ]
}